{
 "cells": [
  {
   "cell_type": "code",
   "execution_count": 11,
   "id": "a2680155-d037-4b9a-99aa-c14c4482f35d",
   "metadata": {},
   "outputs": [],
   "source": [
    "import os\n",
    "from openai import OpenAI\n",
    "\n",
    "client = OpenAI(\n",
    "    api_key=os.environ.get(\"OPENAI_API_KEY\"),  # This is the default and can be omitted\n",
    ")"
   ]
  },
  {
   "cell_type": "code",
   "execution_count": 12,
   "id": "b80903da-4d56-4361-8e06-e0ab9b3778fe",
   "metadata": {},
   "outputs": [],
   "source": [
    "SYSTEM_PROMPT = \"You are a rigorous and responsible image tampering (altering) detection expert.  \\\n",
    "    You can localize the exact tampered region and analyze your detection decision according to tampering clues at different levels.  \\\n",
    "    Assuming that you have detected this is a Fake image and the manipulation type is one of {photoshop, ai-generated},  \\\n",
    "The following analysis supports the authenticity of the image, with observations categorized into high-level semantic coherence, middle-level visual consistency, and low-level pixel statistics.\\\n",
    "# High-Level Semantic Coherence\\\n",
    "Consistency with Common Sense\\\n",
    "The content is entirely plausible, aligning with real-world expectations. The scene reflects a natural, truthful setting with no misleading elements.\\\n",
    "# Middle-Level Visual Consistency\\\n",
    "Consistent Lighting\\\n",
    "\\\n",
    "The lighting throughout the image is coherent, with shadows, highlights, and reflections properly aligned with the light source, creating a realistic appearance.\\\n",
    "Compliance with Physical Constraints\\\n",
    "\\\n",
    "All interactions and placements of objects adhere to physical laws, such as gravity and balance, ensuring that the scene is plausible in the real world.\\\n",
    "Consistent Perspective\\\n",
    "\\\n",
    "The spatial relationships between objects are logically arranged, with no distortion, and the size, scale, and orientation of elements align with natural perspective rules.\\\n",
    "# Low-Level Pixel Statistics\\\n",
    "Cohesive Color Distribution\\\n",
    "\\\n",
    "The colors and tones in the image are smooth and cohesive, with no abrupt transitions, ensuring a natural blend across the scene.\\\n",
    "Uniform Texture and Sharpness\\\n",
    "\\\n",
    "The texture and sharpness are evenly distributed, with no areas appearing artificially smoothed, grainy, or oversharpened.\\\n",
    "Consistent Noise Patterns\\\n",
    "\\\n",
    "The noise distribution across the image is uniform, with no localized discrepancies or abrupt changes that could suggest editing or manipulation. Plese give your answser base on the image:\""
   ]
  },
  {
   "cell_type": "code",
   "execution_count": 13,
   "id": "21a48c8b-122d-407b-9a09-e49886f2aa28",
   "metadata": {},
   "outputs": [],
   "source": [
    "import base64\n",
    "from io import BytesIO\n",
    "from PIL import Image\n",
    "\n",
    "def encode_image(image, quality=100):\n",
    "    if image.mode != 'RGB':\n",
    "        image = image.convert('RGB')  # Convert to RGB\n",
    "    buffered = BytesIO()\n",
    "    image.save(buffered, format=\"JPEG\", quality=quality) \n",
    "    return base64.b64encode(buffered.getvalue()).decode(\"utf-8\")"
   ]
  },
  {
   "cell_type": "code",
   "execution_count": 16,
   "id": "4bc99305-8ccf-454f-a471-d77c61fad47b",
   "metadata": {},
   "outputs": [],
   "source": [
    "def forgery_image_analysis(image_path, quality=50):\n",
    "    with Image.open(image_path) as img:\n",
    "        img_b64_str = encode_image(img, quality=quality)\n",
    "    img_type = \"image/jpeg\"\n",
    "    response = client.chat.completions.create(\n",
    "        model=\"gpt-4o-mini\",\n",
    "        messages=[\n",
    "            {\n",
    "                \"role\": \"user\",\n",
    "                \"content\": [\n",
    "                    {\"type\": \"text\", \"text\": SYSTEM_PROMPT},\n",
    "                    {\n",
    "                        \"type\": \"image_url\",\n",
    "                        \"image_url\": {\"url\": f\"data:{img_type};base64,{img_b64_str}\"},\n",
    "                    },\n",
    "                ],\n",
    "            }\n",
    "        ],\n",
    "    )\n",
    "    return response"
   ]
  },
  {
   "cell_type": "code",
   "execution_count": 19,
   "id": "6e08c800-04d3-4e1e-a049-7cec1a65eaca",
   "metadata": {},
   "outputs": [],
   "source": [
    "response = forgery_image_analysis(\"./datasets/CASIA2/images/Tp_D_CNN_M_B_nat00056_nat00099_11105.jpg\")"
   ]
  },
  {
   "cell_type": "code",
   "execution_count": 26,
   "id": "286268a6-2b86-45fb-b549-b0d8cece57b8",
   "metadata": {},
   "outputs": [
    {
     "data": {
      "text/plain": [
       "\"To assess the authenticity of the image you provided using the structured analysis approach, we will examine it across three levels: high-level semantic coherence, middle-level visual consistency, and low-level pixel statistics.\\n\\n### High-Level Semantic Coherence\\n\\n- **Consistency with Common Sense**: The image appears to depict a natural landscape featuring water and mountains, which is plausible. No misleading elements are present that would suggest an unnatural setting.\\n\\n### Middle-Level Visual Consistency\\n\\n- **Consistent Lighting**: The lighting seems coherent, with highlights and reflections appropriate for the water's surface and shadows consistent with the mountainous backdrop. This adds to the realism of the image.\\n  \\n- **Compliance with Physical Constraints**: The interaction of the water with the land and the mountains appears realistic, adhering to natural laws such as gravity and flow.\\n\\n- **Consistent Perspective**: The perspective is logical; the size and scale of the mountains and the water appear harmonious, without noticeable distortions.\\n\\n### Low-Level Pixel Statistics\\n\\n- **Cohesive Color Distribution**: The colors are blended smoothly throughout the image. There are no abrupt transitions, ensuring a believable representation of the landscape.\\n\\n- **Uniform Texture and Sharpness**: The texture across the scene appears consistent, with no areas exhibiting artificial sharpness or excessive smoothing.\\n\\n- **Consistent Noise Patterns**: The noise levels appear uniform across the image, with no localized discrepancies that might indicate manipulation.\\n\\n### Conclusion\\n\\nBased on the observations across these levels, there is no strong evidence of tampering in the image. It adheres well to the principles of semantic coherence, visual consistency, and statistical integrity. Therefore, the image appears authentic.\""
      ]
     },
     "execution_count": 26,
     "metadata": {},
     "output_type": "execute_result"
    }
   ],
   "source": [
    "response.choices[0].message.content"
   ]
  },
  {
   "cell_type": "code",
   "execution_count": 32,
   "id": "8dfa4eec-d087-4e28-9bd7-9ade5c7f17f3",
   "metadata": {},
   "outputs": [],
   "source": [
    "prompt_pridict = \"You are an image forgery detector. \\\n",
    "Based on the semantic analysis provided for the image and the original image itself, \\\n",
    "determine if the image has been tampered with. You should analyze the image at three levels: \\\n",
    "high-level semantic coherence, middle-level visual consistency, and low-level pixel statistics. \\\n",
    "Based on these analyses, provide your result in the following JSON format:\\\n",
    "{\\\n",
    "      \\\"forgery\\\": true/false,\\\n",
    "  \\\"explain\\\": \\\"Explanation of your analysis at high-level semantic coherence, middle-level visual consistency, and low-level pixel statistics.\\\",\\\n",
    "  \\\"confidence\\\": 0-100\\\n",
    "}\\\n",
    "\"\n"
   ]
  },
  {
   "cell_type": "code",
   "execution_count": 33,
   "id": "d894c500-5bbc-495e-ab93-2331041452f8",
   "metadata": {},
   "outputs": [],
   "source": [
    "def forgery_image_detect(image_path, analysis, quality=50):\n",
    "    with Image.open(image_path) as img:\n",
    "        img_b64_str = encode_image(img, quality=quality)\n",
    "    img_type = \"image/jpeg\"\n",
    "    response = client.chat.completions.create(\n",
    "        model=\"gpt-4o-mini\",\n",
    "        messages=[\n",
    "            {\n",
    "                \"role\": \"user\",\n",
    "                \"content\": [\n",
    "                    {\"type\": \"text\", \"text\": prompt_pridict+analysis},\n",
    "                    {\n",
    "                        \"type\": \"image_url\",\n",
    "                        \"image_url\": {\"url\": f\"data:{img_type};base64,{img_b64_str}\"},\n",
    "                    },\n",
    "                ],\n",
    "            }\n",
    "        ],\n",
    "    )\n",
    "    return response"
   ]
  },
  {
   "cell_type": "code",
   "execution_count": 34,
   "id": "77452028-83cb-4cb1-9057-d2e5d1e5febc",
   "metadata": {},
   "outputs": [
    {
     "data": {
      "text/plain": [
       "ChatCompletion(id='chatcmpl-Au3Mf4wx2Hbc0ycMTXYdeqw2zsCoK', choices=[Choice(finish_reason='stop', index=0, logprobs=None, message=ChatCompletionMessage(content='```json\\n{\\n  \"forgery\": false,\\n  \"explain\": \"The image demonstrates high-level semantic coherence as it features a natural landscape with water and mountains, which is plausible and lacks any misleading elements. At the middle level, the lighting is consistent, the interaction of elements adheres to physical constraints, and the perspective appears logical. Low-level analysis reveals cohesive color distribution, uniform texture and sharpness, and consistent noise patterns throughout the image, indicating no signs of manipulation.\",\\n  \"confidence\": 85\\n}\\n```', refusal=None, role='assistant', audio=None, function_call=None, tool_calls=None))], created=1737922665, model='gpt-4o-mini-2024-07-18', object='chat.completion', service_tier='default', system_fingerprint='fp_bd83329f63', usage=CompletionUsage(completion_tokens=109, prompt_tokens=898, total_tokens=1007, completion_tokens_details=CompletionTokensDetails(accepted_prediction_tokens=0, audio_tokens=0, reasoning_tokens=0, rejected_prediction_tokens=0), prompt_tokens_details=PromptTokensDetails(audio_tokens=0, cached_tokens=0)))"
      ]
     },
     "execution_count": 34,
     "metadata": {},
     "output_type": "execute_result"
    }
   ],
   "source": [
    "forgery_image_detect(\"./datasets/CASIA2/images/Tp_D_CNN_M_B_nat00056_nat00099_11105.jpg\", response.choices[0].message.content)"
   ]
  }
 ],
 "metadata": {
  "kernelspec": {
   "display_name": "Python 3 (ipykernel)",
   "language": "python",
   "name": "python3"
  },
  "language_info": {
   "codemirror_mode": {
    "name": "ipython",
    "version": 3
   },
   "file_extension": ".py",
   "mimetype": "text/x-python",
   "name": "python",
   "nbconvert_exporter": "python",
   "pygments_lexer": "ipython3",
   "version": "3.12.7"
  }
 },
 "nbformat": 4,
 "nbformat_minor": 5
}
